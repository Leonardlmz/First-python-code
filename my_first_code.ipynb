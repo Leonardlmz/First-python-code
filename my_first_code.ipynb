{
 "cells": [
  {
   "cell_type": "code",
   "execution_count": 1,
   "id": "52dbcf76",
   "metadata": {},
   "outputs": [
    {
     "name": "stdout",
     "output_type": "stream",
     "text": [
      "My name is Leow Min Zheng\n",
      "The date is 30/1/2023\n"
     ]
    }
   ],
   "source": [
    "# this is my first line of code\n",
    "print(\"My name is Leow Min Zheng\")\n",
    "print(\"The date is 30/1/2023\")"
   ]
  },
  {
   "cell_type": "code",
   "execution_count": 2,
   "id": "d210ee04",
   "metadata": {},
   "outputs": [
    {
     "name": "stdout",
     "output_type": "stream",
     "text": [
      "182900\n"
     ]
    }
   ],
   "source": [
    "# Write a program to analyse real estate data\n",
    "a = 45000\n",
    "b = 23400\n",
    "c = 67000\n",
    "d = 34600\n",
    "e = 12900\n",
    "\n",
    "# Add all the sales together \n",
    "total_sales = a + b + c + d + e\n",
    "\n",
    "# View the output\n",
    "print(total_sales)"
   ]
  },
  {
   "cell_type": "code",
   "execution_count": 3,
   "id": "b5eaa219",
   "metadata": {},
   "outputs": [
    {
     "name": "stdout",
     "output_type": "stream",
     "text": [
      "36580.0\n"
     ]
    }
   ],
   "source": [
    "# Create a new variable\n",
    "# Calculate the average sales by dividing the total number of sales by 5\n",
    "avg_sales = total_sales / 5\n",
    "\n",
    "# View the output\n",
    "print(avg_sales)"
   ]
  },
  {
   "cell_type": "code",
   "execution_count": 4,
   "id": "2baf54e5",
   "metadata": {},
   "outputs": [
    {
     "name": "stdout",
     "output_type": "stream",
     "text": [
      "60500\n"
     ]
    }
   ],
   "source": [
    "# create a new variable\n",
    "# Calculate the price of property C as sales - commission\n",
    "property_price_c = (67000 - 6500)\n",
    "\n",
    "# View the output\n",
    "print(property_price_c)"
   ]
  },
  {
   "cell_type": "code",
   "execution_count": null,
   "id": "730e1d00",
   "metadata": {},
   "outputs": [],
   "source": []
  }
 ],
 "metadata": {
  "kernelspec": {
   "display_name": "Python 3 (ipykernel)",
   "language": "python",
   "name": "python3"
  },
  "language_info": {
   "codemirror_mode": {
    "name": "ipython",
    "version": 3
   },
   "file_extension": ".py",
   "mimetype": "text/x-python",
   "name": "python",
   "nbconvert_exporter": "python",
   "pygments_lexer": "ipython3",
   "version": "3.9.13"
  }
 },
 "nbformat": 4,
 "nbformat_minor": 5
}
